{
 "cells": [
  {
   "cell_type": "markdown",
   "id": "a29e67e2-6d06-40ed-8606-d20b5a86432e",
   "metadata": {},
   "source": [
    "# DATA LOADING "
   ]
  },
  {
   "cell_type": "code",
   "execution_count": 1,
   "id": "66b526a0-69eb-45d4-8d9e-b2fcd2c7d445",
   "metadata": {},
   "outputs": [
    {
     "name": "stdout",
     "output_type": "stream",
     "text": [
      "Invoice No: 56789\n",
      "---------------------\n",
      "Item 1: Insulation Material\n",
      "- Quantity: 100 rolls\n",
      "- Unit Price: $60.00\n",
      "- Total Amount: $6,000.00\n",
      "Item 2: Drywall Sheets\n",
      "- Quantity: 150 sheets\n",
      "- Unit Price: $25.00\n",
      "- Total Amount: $3,750.00\n",
      "Item 3: Paint (5-gallon cans)\n",
      "- Quantity: 20 cans\n",
      "- Unit Price: $45.00\n",
      "- Total Amount: $900.00\n",
      "Subtotal: $10,650.00\n",
      "Tax (8%): $852.00\n",
      "Total Invoice Amount: $11,502.00\n",
      "Invoice Date: July 25, 2024\n",
      "Vendor: GHI Building Supplies\n",
      "Address: 9101 Trade St, Buildville, ST 34567\n",
      "Customer: JKL Construction Co.\n",
      "Project: Warehouse Expansion\n",
      "Terms: Payment due by August 25, 2024.\n"
     ]
    }
   ],
   "source": [
    "import PyPDF2\n",
    "\n",
    "def extractPDF(pdf_file):\n",
    "  with open(pdf_file, 'rb') as pdf_reader:\n",
    "    reader = PyPDF2.PdfReader(pdf_reader)\n",
    "    num_pages = len(reader.pages)\n",
    "    text = \"\"\n",
    "    for page_num in range(num_pages):\n",
    "      page = reader.pages[page_num]\n",
    "      text += page.extract_text()\n",
    "    return text\n",
    "\n",
    "\n",
    "pdf_file = 'Sample Invoices/Invoice_Sample03.pdf'\n",
    "pdf_text = extractPDF(pdf_file)\n",
    "print(pdf_text)"
   ]
  },
  {
   "cell_type": "markdown",
   "id": "ea99bf3c-410c-45f2-ae84-f7e489054d0c",
   "metadata": {},
   "source": [
    "# INITIALIZING LLAMA TO EXTRACT FEATURES FROM THE INVOICE"
   ]
  },
  {
   "cell_type": "code",
   "execution_count": 9,
   "id": "e2e416ea-4eba-46f0-84eb-912ed9edf793",
   "metadata": {},
   "outputs": [
    {
     "name": "stderr",
     "output_type": "stream",
     "text": [
      "WARNING: You are using pip version 22.0.4; however, version 24.1.2 is available.\n",
      "You should consider upgrading via the 'C:\\Users\\user\\AppData\\Local\\Microsoft\\WindowsApps\\PythonSoftwareFoundation.Python.3.9_qbz5n2kfra8p0\\python.exe -m pip install --upgrade pip' command.\n"
     ]
    }
   ],
   "source": [
    "!pip install -qU langchain-ollama"
   ]
  },
  {
   "cell_type": "code",
   "execution_count": 2,
   "id": "ec43f38f-f358-4a60-b931-7a0aa75d3ed3",
   "metadata": {},
   "outputs": [],
   "source": [
    "from langchain_ollama import ChatOllama\n",
    "\n",
    "llm = ChatOllama(\n",
    "        model=\"llama3\",\n",
    "        temperature=0,\n",
    "        # other params...\n",
    ")"
   ]
  },
  {
   "attachments": {},
   "cell_type": "markdown",
   "id": "66d0f359-4bc8-4319-a95a-a5a7b12c54cd",
   "metadata": {},
   "source": [
    "There are a few ways to access LLaMA2.\n",
    "\n",
    "To run locally, use Ollama.ai. See [here](https://python.langchain.com/docs/integrations/chat/ollama) for details on installation and setup.\n",
    "\n",
    "To use an external API, which is not private, you can use Replicate. You can register and get your REPLICATE_API_TOKEN [here](https://replicate.com/).\n",
    "\n",
    "from langchain.llms import Replicate\n",
    "from langchain.chains import LLMChain\n",
    "from langchain_core.prompts import BasePromptTemplate"
   ]
  },
  {
   "cell_type": "markdown",
   "id": "731554a8-1ee6-4034-875c-a721ad58deb6",
   "metadata": {},
   "source": [
    "# EXTRACTING FEATURES FROM THE EXTRACTED DATA FORM PDF\n"
   ]
  },
  {
   "cell_type": "code",
   "execution_count": 3,
   "id": "ffab320e-6d60-4a5d-b9a1-95ff9442e17c",
   "metadata": {},
   "outputs": [],
   "source": [
    "def extractTextPdf(pdf_path):\n",
    "    with pdfplumber.open(pdf_path) as pdf:\n",
    "        full_text = \"\"\n",
    "        for page in pdf.pages:\n",
    "            full_text += page.extract_text()\n",
    "    return full_text"
   ]
  },
  {
   "cell_type": "code",
   "execution_count": 4,
   "id": "e959a135-325f-4dc0-8668-042c1a85de8a",
   "metadata": {},
   "outputs": [
    {
     "name": "stdout",
     "output_type": "stream",
     "text": [
      "------------------------------------------------\n",
      "| Item Description | Quantity | Unit Price | Total Amount |\n",
      "------------------------------------------------\n",
      "| Concrete Mix | 15 | $120.00 | $1,800.00 |\n",
      "| Brick Masonry | 200 | $0.50 | $100.00 |\n",
      "| Scaffolding | 10 | $50.00 | $500.00 |\n",
      "------------------------------------------------\n",
      "Invoice Date: July 15, 2024\n",
      "Invoice Number: INV-2024-001\n",
      "Vendor: ABC Construction Supplies\n",
      "Address: 1234 Industrial Ave, Suite 100, Cityville, ST 56789\n",
      "Customer: XYZ Builders Inc.\n",
      "Project: New Office Building\n",
      "Terms: Payment due within 30 days from the invoice date.\n",
      "Project Invoice\n",
      "----------------------\n",
      "Description: Hydraulic Cement\n",
      "Quantity: 25\n",
      "Unit Price: $90.00\n",
      "Total Amount: $2,250.00\n",
      "Description: Electrical Wiring\n",
      "Quantity: 300 meters\n",
      "Unit Price: $0.75 per meter\n",
      "Total Amount: $225.00\n",
      "Description: Safety Helmets\n",
      "Quantity: 50\n",
      "Unit Price: $20.00\n",
      "Total Amount: $1,000.00\n",
      "Invoice Date: July 20, 2024\n",
      "Invoice Number: INV-2024-002\n",
      "Vendor: DEF Construction Materials\n",
      "Address: 5678 Commerce Blvd, Citytown, ST 67890\n",
      "Customer: ABC Engineering Solutions\n",
      "Project: Office Renovation\n",
      "Terms: Net 45 days. Late payment may incur a 5% penalty.\n",
      "Invoice No: 56789\n",
      "---------------------\n",
      "Item 1: Insulation Material\n",
      "- Quantity: 100 rolls\n",
      "- Unit Price: $60.00\n",
      "- Total Amount: $6,000.00\n",
      "Item 2: Drywall Sheets\n",
      "- Quantity: 150 sheets\n",
      "- Unit Price: $25.00\n",
      "- Total Amount: $3,750.00\n",
      "Item 3: Paint (5-gallon cans)\n",
      "- Quantity: 20 cans\n",
      "- Unit Price: $45.00\n",
      "- Total Amount: $900.00\n",
      "Subtotal: $10,650.00\n",
      "Tax (8%): $852.00\n",
      "Total Invoice Amount: $11,502.00\n",
      "Invoice Date: July 25, 2024\n",
      "Vendor: GHI Building Supplies\n",
      "Address: 9101 Trade St, Buildville, ST 34567\n",
      "Customer: JKL Construction Co.\n",
      "Project: Warehouse Expansion\n",
      "Terms: Payment due by August 25, 2024.\n",
      "Invoice #54321\n",
      "-----------------\n",
      "- Plumbing Pipes (50x$40): $2,000\n",
      "- Wood Beams (30x$70): $2,100\n",
      "- Cement Bags (80x$15): $1,200\n",
      "TOTAL: $5,300\n",
      "Invoice Date: July 30, 2024\n",
      "Invoice Number: INV-2024-003\n",
      "Vendor: MNO Supply Co.\n",
      "Address: 2345 Supply Ln, Metropolis, ST 45678\n",
      "Customer: PQR Constructors\n",
      "Project: Residential Complex\n",
      "Terms: Payment due within 14 days of invoice date. Please refer to the attached delivery note for\n",
      "shipment details.\n",
      "Invoice Details\n",
      "----------------\n",
      "We have supplied Plumbing Pipes with a quantity of 50 at a rate of $40 each, totaling $2,000. Wood\n",
      "Beams were provided in 30 units at $70 each, which amounts to $2,100. Additionally, Cement Bags\n",
      "were supplied, with 80 bags priced at $15 each, making the total $1,200. The overall total for the\n",
      "invoice is $5,300.\n",
      "Invoice Date: August 1, 2024\n",
      "Invoice Number: INV-2024-004\n",
      "Vendor: STU Construction Goods\n",
      "Address: 3456 Industry Rd, Townsville, ST 67890\n",
      "Customer: UVW Projects Ltd.\n",
      "Project: Commercial Plaza\n",
      "Terms: Please make payment by August 15, 2024. For any inquiries, contact our accounts\n",
      "department at (555) 123-4567.\n"
     ]
    }
   ],
   "source": [
    "import os\n",
    "import pdfplumber\n",
    "folder_path = 'Sample Invoices'\n",
    "pdf_text = []\n",
    "for filename in os.listdir(folder_path):\n",
    "    if filename.endswith(\".pdf\"):\n",
    "        pdf_path = os.path.join(folder_path, filename)\n",
    "        all_extracted_data = extractTextPdf(pdf_path)\n",
    "        print(all_extracted_data)\n",
    "        pdf_text.append(all_extracted_data)"
   ]
  },
  {
   "cell_type": "markdown",
   "id": "828bda53-d6b9-41a4-ae51-5f222cf643c5",
   "metadata": {},
   "source": [
    "# PROMPT ENGINEERING"
   ]
  },
  {
   "cell_type": "code",
   "execution_count": 5,
   "id": "39d1cf43-88f0-4fa6-aa45-f995e9ca0772",
   "metadata": {},
   "outputs": [
    {
     "name": "stdout",
     "output_type": "stream",
     "text": [
      "1. Description: Concrete Mix\n",
      "2. Quantity: 15\n",
      "3. Unit Price: $120.00\n",
      "4. Total Amount: $1,800.00\n",
      "\n",
      "1. Description: Brick Masonry\n",
      "2. Quantity: 200\n",
      "3. Unit Price: $0.50\n",
      "4. Total Amount: $100.00\n",
      "\n",
      "1. Description: Scaffolding\n",
      "2. Quantity: 10\n",
      "3. Unit Price: $50.00\n",
      "4. Total Amount: $500.00\n",
      "\n",
      "1. Description: Hydraulic Cement\n",
      "2. Quantity: 25\n",
      "3. Unit Price: $90.00\n",
      "4. Total Amount: $2,250.00\n",
      "\n",
      "1. Description: Electrical Wiring\n",
      "2. Quantity: 300 meters\n",
      "3. Unit Price: $0.75 per meter\n",
      "4. Total Amount: $225.00\n",
      "\n",
      "1. Description: Safety Helmets\n",
      "2. Quantity: 50\n",
      "3. Unit Price: $20.00\n",
      "4. Total Amount: $1,000.00\n",
      "\n",
      "1. Description: Insulation Material\n",
      "2. Quantity: 100 rolls\n",
      "3. Unit Price: $60.00\n",
      "4. Total Amount: $6,000.00\n",
      "\n",
      "1. Description: Drywall Sheets\n",
      "2. Quantity: 150 sheets\n",
      "3. Unit Price: $25.00\n",
      "4. Total Amount: $3,750.00\n",
      "\n",
      "1. Description: Paint (5-gallon cans)\n",
      "2. Quantity: 20 cans\n",
      "3. Unit Price: $45.00\n",
      "4. Total Amount: $900.00\n",
      "\n",
      "1. Description: Plumbing Pipes\n",
      "2. Quantity: 50\n",
      "3. Unit Price: $40 each\n",
      "4. Total Amount: $2,000.00\n",
      "\n",
      "1. Description: Wood Beams\n",
      "2. Quantity: 30 units\n",
      "3. Unit Price: $70 each\n",
      "4. Total Amount: $2,100.00\n",
      "\n",
      "1. Description: Cement Bags\n",
      "2. Quantity: 80 bags\n",
      "3. Unit Price: $15 each\n",
      "4. Total Amount: $1,200.00\n"
     ]
    }
   ],
   "source": [
    "from langchain_core.messages import AIMessage\n",
    "\n",
    "prompt =f\"\"\"Extract the following information from the given text:\n",
    "1.Description, \n",
    "2.Quantity, \n",
    "3.Unit price, \n",
    "4.Total amount\n",
    "\n",
    "Text: \n",
    "{pdf_text}\n",
    "\n",
    "Output the information in the same format without any invoice information like **Invoice 1** **Invoice 1(continued)**:\n",
    "\n",
    "1.Description: concrete mix\n",
    "2.Quantity: 15\n",
    "3.Unit price: $ 120\n",
    "4.Total amount:$ 1800\n",
    "\"\"\"\n",
    "\n",
    "messages = [\n",
    "    (\"system\", \"You are an expert in extracting structured information from unstructured text.\"),\n",
    "    (\"human\", prompt),\n",
    "]\n",
    "\n",
    "ai_msg = llm.invoke(messages)\n",
    "\n",
    "\n",
    "ai_msg_content = ai_msg.content\n",
    "\n",
    "extracted_info = ai_msg_content.split('Here is the extracted information in the desired format:')[1].strip()\n",
    "print(extracted_info)\n",
    "\n",
    "\n"
   ]
  },
  {
   "cell_type": "markdown",
   "id": "723bfe67-ad4c-44e4-9027-d5bf51bc7df6",
   "metadata": {},
   "source": [
    "# CLEANING THE DATA AND STRUCTURING"
   ]
  },
  {
   "cell_type": "code",
   "execution_count": 11,
   "id": "3407b4c7-ab88-420f-8a4b-7997bd0dfc53",
   "metadata": {},
   "outputs": [
    {
     "name": "stdout",
     "output_type": "stream",
     "text": [
      "Data has been written to construction_materials.csv\n"
     ]
    }
   ],
   "source": [
    "import csv\n",
    "import re\n",
    "\n",
    "def parse_item(item_string):\n",
    "    lines = item_string.strip().split('\\n')\n",
    "    return [\n",
    "        re.search(r'Description: (.+)', lines[0]).group(1),\n",
    "        re.search(r'Quantity: (.+)', lines[1]).group(1),\n",
    "        re.search(r'Unit Price: (.+)', lines[2]).group(1),\n",
    "        re.search(r'Total Amount: (.+)', lines[3]).group(1)\n",
    "    ]\n",
    "\n",
    "items = re.split(r'\\n\\n(?=1\\.)', extracted_info.strip())\n",
    "\n",
    "parsed_data = [parse_item(item) for item in items]\n",
    "\n",
    "with open('construction_materials.csv', 'w', newline='') as csvfile:\n",
    "    writer = csv.writer(csvfile)\n",
    "    writer.writerow(['Description', 'Quantity', 'Unit Price', 'Total Amount'])\n",
    "    writer.writerows(parsed_data)\n",
    "\n",
    "print(\"Data has been written to construction_materials.csv\")"
   ]
  },
  {
   "cell_type": "code",
   "execution_count": 27,
   "id": "7e88c63d-3a91-404b-b583-da23548c4541",
   "metadata": {},
   "outputs": [
    {
     "name": "stdout",
     "output_type": "stream",
     "text": [
      "Collecting pdfplumber\n",
      "  Downloading pdfplumber-0.11.2-py3-none-any.whl.metadata (40 kB)\n",
      "Collecting pdfminer.six==20231228 (from pdfplumber)\n",
      "  Downloading pdfminer.six-20231228-py3-none-any.whl.metadata (4.2 kB)\n",
      "Requirement already satisfied: Pillow>=9.1 in c:\\users\\user\\appdata\\local\\packages\\pythonsoftwarefoundation.python.3.9_qbz5n2kfra8p0\\localcache\\local-packages\\python39\\site-packages (from pdfplumber) (10.4.0)\n",
      "Collecting pypdfium2>=4.18.0 (from pdfplumber)\n",
      "  Downloading pypdfium2-4.30.0-py3-none-win_amd64.whl.metadata (48 kB)\n",
      "Requirement already satisfied: charset-normalizer>=2.0.0 in c:\\users\\user\\appdata\\local\\packages\\pythonsoftwarefoundation.python.3.9_qbz5n2kfra8p0\\localcache\\local-packages\\python39\\site-packages (from pdfminer.six==20231228->pdfplumber) (3.3.2)\n",
      "Collecting cryptography>=36.0.0 (from pdfminer.six==20231228->pdfplumber)\n",
      "  Downloading cryptography-43.0.0-cp39-abi3-win_amd64.whl.metadata (5.4 kB)\n",
      "Requirement already satisfied: cffi>=1.12 in c:\\users\\user\\appdata\\local\\packages\\pythonsoftwarefoundation.python.3.9_qbz5n2kfra8p0\\localcache\\local-packages\\python39\\site-packages (from cryptography>=36.0.0->pdfminer.six==20231228->pdfplumber) (1.16.0)\n",
      "Requirement already satisfied: pycparser in c:\\users\\user\\appdata\\local\\packages\\pythonsoftwarefoundation.python.3.9_qbz5n2kfra8p0\\localcache\\local-packages\\python39\\site-packages (from cffi>=1.12->cryptography>=36.0.0->pdfminer.six==20231228->pdfplumber) (2.22)\n",
      "Downloading pdfplumber-0.11.2-py3-none-any.whl (58 kB)\n",
      "Downloading pdfminer.six-20231228-py3-none-any.whl (5.6 MB)\n",
      "   ---------------------------------------- 0.0/5.6 MB ? eta -:--:--\n",
      "   ---------------------------------------- 5.6/5.6 MB 56.9 MB/s eta 0:00:00\n",
      "Downloading pypdfium2-4.30.0-py3-none-win_amd64.whl (2.9 MB)\n",
      "   ---------------------------------------- 0.0/2.9 MB ? eta -:--:--\n",
      "   ---------------------------------------- 2.9/2.9 MB 33.7 MB/s eta 0:00:00\n",
      "Downloading cryptography-43.0.0-cp39-abi3-win_amd64.whl (3.1 MB)\n",
      "   ---------------------------------------- 0.0/3.1 MB ? eta -:--:--\n",
      "   ---------------------------------------- 3.1/3.1 MB 25.6 MB/s eta 0:00:00\n",
      "Installing collected packages: pypdfium2, cryptography, pdfminer.six, pdfplumber\n",
      "Successfully installed cryptography-43.0.0 pdfminer.six-20231228 pdfplumber-0.11.2 pypdfium2-4.30.0\n"
     ]
    },
    {
     "name": "stderr",
     "output_type": "stream",
     "text": [
      "  WARNING: The script pypdfium2.exe is installed in 'C:\\Users\\user\\AppData\\Local\\Packages\\PythonSoftwareFoundation.Python.3.9_qbz5n2kfra8p0\\LocalCache\\local-packages\\Python39\\Scripts' which is not on PATH.\n",
      "  Consider adding this directory to PATH or, if you prefer to suppress this warning, use --no-warn-script-location.\n",
      "  WARNING: The script pdfplumber.exe is installed in 'C:\\Users\\user\\AppData\\Local\\Packages\\PythonSoftwareFoundation.Python.3.9_qbz5n2kfra8p0\\LocalCache\\local-packages\\Python39\\Scripts' which is not on PATH.\n",
      "  Consider adding this directory to PATH or, if you prefer to suppress this warning, use --no-warn-script-location.\n"
     ]
    }
   ],
   "source": [
    "!pip install pdfplumber"
   ]
  },
  {
   "cell_type": "code",
   "execution_count": null,
   "id": "550021e8-e6c6-4a99-a586-9a64494ba542",
   "metadata": {},
   "outputs": [],
   "source": []
  }
 ],
 "metadata": {
  "kernelspec": {
   "display_name": "Python 3 (ipykernel)",
   "language": "python",
   "name": "python3"
  },
  "language_info": {
   "codemirror_mode": {
    "name": "ipython",
    "version": 3
   },
   "file_extension": ".py",
   "mimetype": "text/x-python",
   "name": "python",
   "nbconvert_exporter": "python",
   "pygments_lexer": "ipython3",
   "version": "3.9.13"
  }
 },
 "nbformat": 4,
 "nbformat_minor": 5
}
