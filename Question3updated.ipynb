{
 "cells": [
  {
   "cell_type": "markdown",
   "id": "24692dbb-4812-4ae3-840f-a5604208decb",
   "metadata": {},
   "source": [
    "# LOADING DATA OF THE PDF USING PYPDF OR PDFPLUMBER"
   ]
  },
  {
   "cell_type": "code",
   "execution_count": 1,
   "id": "66b526a0-69eb-45d4-8d9e-b2fcd2c7d445",
   "metadata": {},
   "outputs": [
    {
     "name": "stdout",
     "output_type": "stream",
     "text": [
      "In recent developments, the Urban Park Renovation project has been finalized with LMN Builders \n",
      "and the City Council. The contract will kick off on September 1, 2024, and will run through March \n",
      "1, 2025. This contract, valued at $1,800,000, includes a detailed plan for overhauling the existing \n",
      "park facilities.\n",
      "The scope includes the demolition of outdated structures, excavation work, and the construction of \n",
      "new recreational facilities. The project aims to rejuvenate the park and make it more accessible and \n",
      "enjoyable for the community. The agreement outlines specific responsibilities for both parties and \n",
      "includes timelines and quality benchmarks to ensure successful delivery.\n"
     ]
    }
   ],
   "source": [
    "import PyPDF2\n",
    "\n",
    "def extractPDF(pdf_file):\n",
    "  with open(pdf_file, 'rb') as pdf_reader:\n",
    "    reader = PyPDF2.PdfReader(pdf_reader)\n",
    "    num_pages = len(reader.pages)\n",
    "    text = \"\"\n",
    "    for page_num in range(num_pages):\n",
    "      page = reader.pages[page_num]\n",
    "      text += page.extract_text()\n",
    "    return text\n",
    "\n",
    "\n",
    "pdf_file = 'Sample.pdf'\n",
    "pdf_text = extractPDF(pdf_file)\n",
    "print(pdf_text)"
   ]
  },
  {
   "cell_type": "markdown",
   "id": "24578ad3-6c4a-4653-9003-cf1ee60fcbeb",
   "metadata": {},
   "source": [
    "# USING OLLAMA LLM TO SORT OUT THE DATA REQUIRED FROM THE UNSTRUCTURED PDF DATA"
   ]
  },
  {
   "cell_type": "code",
   "execution_count": 9,
   "id": "e2e416ea-4eba-46f0-84eb-912ed9edf793",
   "metadata": {},
   "outputs": [
    {
     "name": "stderr",
     "output_type": "stream",
     "text": [
      "WARNING: You are using pip version 22.0.4; however, version 24.1.2 is available.\n",
      "You should consider upgrading via the 'C:\\Users\\user\\AppData\\Local\\Microsoft\\WindowsApps\\PythonSoftwareFoundation.Python.3.9_qbz5n2kfra8p0\\python.exe -m pip install --upgrade pip' command.\n"
     ]
    }
   ],
   "source": [
    "!pip install -qU langchain-ollama"
   ]
  },
  {
   "cell_type": "code",
   "execution_count": 2,
   "id": "ec43f38f-f358-4a60-b931-7a0aa75d3ed3",
   "metadata": {},
   "outputs": [],
   "source": [
    "from langchain_ollama import ChatOllama\n",
    "\n",
    "llm = ChatOllama(\n",
    "        model=\"llama3\",\n",
    "        temperature=0,\n",
    "        # other params...\n",
    ")"
   ]
  },
  {
   "attachments": {},
   "cell_type": "raw",
   "id": "80275a9c-ec59-477f-9dc6-99ee03cea761",
   "metadata": {},
   "source": [
    "There are a few ways to access LLaMA2.\n",
    "\n",
    "To run locally, use Ollama.ai. See [here](https://python.langchain.com/docs/integrations/chat/ollama) for details on installation and setup.\n",
    "\n",
    "To use an external API, which is not private, you can use Replicate. You can register and get your REPLICATE_API_TOKEN [here](https://replicate.com/).\n",
    "\n",
    "from langchain.llms import Replicate\n",
    "from langchain.chains import LLMChain\n",
    "from langchain_core.prompts import BasePromptTemplate"
   ]
  },
  {
   "cell_type": "markdown",
   "id": "7886e15a-c487-4348-b32a-ca0d5440f2ce",
   "metadata": {},
   "source": [
    "# SAMPLE FOR 1 INVOICE"
   ]
  },
  {
   "cell_type": "code",
   "execution_count": 3,
   "id": "39d1cf43-88f0-4fa6-aa45-f995e9ca0772",
   "metadata": {},
   "outputs": [
    {
     "name": "stdout",
     "output_type": "stream",
     "text": [
      "- Project Name: Urban Park Renovation\n",
      "- Start Date: September 1, 2024\n",
      "- End Date: March 1, 2025\n",
      "- Parties Involved: LMN Builders and the City Council\n",
      "- Contract Value: $1,800,000\n"
     ]
    }
   ],
   "source": [
    "from langchain_core.messages import AIMessage\n",
    "\n",
    "\n",
    "\n",
    "\n",
    "# I AHVE DEFINED THE PROMPT TO BE OUTPUT THE NEEDED INFORMATION \n",
    "\n",
    "\n",
    "\n",
    "prompt = f\"\"\"\n",
    "Extract the following information from the given text:\n",
    "1. Project Name\n",
    "2. Start Date\n",
    "3. End Date\n",
    "4. Parties Involved\n",
    "5. Contract Value\n",
    "\n",
    "Text: \n",
    "{pdf_text}\n",
    "\n",
    "Output the information as follows:\n",
    "- Project Name:\n",
    "- Start Date:\n",
    "- End Date:\n",
    "- Parties Involved:\n",
    "- Contract Value:\n",
    "\"\"\"\n",
    "\n",
    "\n",
    "messages = [\n",
    "    (\"system\", \"You are an expert in extracting structured information from unstructured text.\"),\n",
    "    (\"human\", prompt),\n",
    "]\n",
    "\n",
    "ai_msg = llm.invoke(messages)\n",
    "\n",
    "# response FROM AI\n",
    "#print(ai_msg.content)\n",
    "\n",
    "ai_msg_content = ai_msg.content\n",
    "extracted_info = ai_msg_content.split('Here is the extracted information:')[1].strip()\n",
    "\n",
    "print(extracted_info)\n",
    "\n"
   ]
  },
  {
   "cell_type": "markdown",
   "id": "bded3e86-7e4f-4141-afb5-ff438948e0d0",
   "metadata": {},
   "source": [
    "# FOR ALL THE PDF INVOICE"
   ]
  },
  {
   "cell_type": "code",
   "execution_count": 20,
   "id": "d8cb4707-f149-4afe-8cc8-dfe782836b14",
   "metadata": {},
   "outputs": [
    {
     "name": "stdout",
     "output_type": "stream",
     "text": [
      "Here is the extracted information:\n",
      "\n",
      "- Project Name: Riverside Residential Project\n",
      "- Start Date: September 10, 2024\n",
      "- End Date: June 30, 2025\n",
      "- Parties Involved: Riverside Constructions Ltd. and DEF Housing Corp.\n",
      "- Contract Value: $2,200,000\n",
      "Here is the extracted information:\n",
      "\n",
      "- Project Name: Greenfield Development\n",
      "- Start Date: August 15, 2024\n",
      "- End Date: December 15, 2024\n",
      "- Parties Involved: ABC Construction Company and XYZ Developers\n",
      "- Contract Value: $2,500,000\n",
      "Here is the extracted information:\n",
      "\n",
      "- Project Name: Urban Park Renovation project\n",
      "- Start Date: September 1, 2024\n",
      "- End Date: March 1, 2025\n",
      "- Parties Involved: LMN Builders and the City Council\n",
      "- Contract Value: $1,800,000\n",
      "Here is the extracted information:\n",
      "\n",
      "- Project Name: Downtown Office Tower\n",
      "- Start Date: November 1, 2024\n",
      "- End Date: October 1, 2025\n",
      "- Parties Involved: Downtown Construction Inc. and ABC Realty\n",
      "- Contract Value: $4,200,000\n",
      "Here is the extracted information:\n",
      "\n",
      "- Project Name: Lakeview Community Center\n",
      "- Start Date: October 5, 2024\n",
      "- End Date: July 15, 2025\n",
      "- Parties Involved: Horizon Construction Group and GreenTech Innovations\n",
      "- Contract Value: $2,800,000\n",
      "Structured information has been saved to extracted_invoices_info.csv.\n"
     ]
    }
   ],
   "source": [
    "import os\n",
    "import csv\n",
    "import pdfplumber\n",
    "from langchain_core.messages import AIMessage\n",
    " \n",
    "folder_path = 'Sample Contracts'\n",
    "    \n",
    "all_extracted_data = []\n",
    "\n",
    "def extractTextPdf(pdf_path):\n",
    "    with pdfplumber.open(pdf_path) as pdf:\n",
    "        full_text = \"\"\n",
    "        for page in pdf.pages:\n",
    "            full_text += page.extract_text()\n",
    "    return full_text\n",
    "\n",
    "\n",
    "def inferenceLlm(text):\n",
    "    prompt = f\"\"\"\n",
    "    Extract the following information from the given text:\n",
    "    1. Project Name\n",
    "    2. Start Date\n",
    "    3. End Date\n",
    "    4. Parties Involved\n",
    "    5. Contract Value\n",
    "\n",
    "    Text: \n",
    "    {text}\n",
    "\n",
    "    Output the information as follows:\n",
    "    - Project Name:\n",
    "    - Start Date:\n",
    "    - End Date:\n",
    "    - Parties Involved:\n",
    "    - Contract Value:\n",
    "    \"\"\"\n",
    "    \n",
    "    messages = [\n",
    "        (\"system\", \"You are an expert in extracting structured information from unstructured text.\"),\n",
    "        (\"human\", prompt),\n",
    "    ]\n",
    "    \n",
    "    ai_msg = llm.invoke(messages)\n",
    "    ai_msg_content = ai_msg.content\n",
    "    print(ai_msg_content)\n",
    "    \n",
    "\n",
    "    ai_msg_content = ai_msg_content.split('Here is the extracted information:')[1].strip()\n",
    "    \n",
    "    extracted_info = {}\n",
    "    for line in ai_msg_content.splitlines():\n",
    "        if ':' in line:\n",
    "            key, value = line.split(':', 1)\n",
    "            extracted_info[key.strip()] = value.strip()\n",
    "    #print(extracted_info)\n",
    "    return extracted_info\n",
    "\n",
    "\n",
    "\n",
    "for filename in os.listdir(folder_path):\n",
    "    if filename.endswith(\".pdf\"):\n",
    "        pdf_path = os.path.join(folder_path, filename)\n",
    "        pdf_text = extractTextPdf(pdf_path)\n",
    "        #print(pdf_text)\n",
    "        extracted_info = inferenceLlm(pdf_text)\n",
    "        #print(extracted_info)\n",
    "        all_extracted_data.append(extracted_info)\n",
    "\n",
    "csv_file = \"extracted_invoices_info.csv\"\n",
    "with open(csv_file, mode='w', newline='') as file:\n",
    "    writer = csv.DictWriter(file, fieldnames=all_extracted_data[0].keys())\n",
    "    writer.writeheader()\n",
    "    writer.writerows(all_extracted_data)\n",
    "print(f\"Structured information has been saved to {csv_file}.\")\n"
   ]
  },
  {
   "cell_type": "code",
   "execution_count": null,
   "id": "1b200abf-90a2-4ed1-ae4a-4cb82147d563",
   "metadata": {},
   "outputs": [],
   "source": [
    "type(all_extracted_data)"
   ]
  },
  {
   "cell_type": "code",
   "execution_count": null,
   "id": "7e88c63d-3a91-404b-b583-da23548c4541",
   "metadata": {},
   "outputs": [],
   "source": [
    "!pip install pdfplumber"
   ]
  },
  {
   "cell_type": "code",
   "execution_count": null,
   "id": "550021e8-e6c6-4a99-a586-9a64494ba542",
   "metadata": {},
   "outputs": [],
   "source": []
  }
 ],
 "metadata": {
  "kernelspec": {
   "display_name": "Python 3 (ipykernel)",
   "language": "python",
   "name": "python3"
  },
  "language_info": {
   "codemirror_mode": {
    "name": "ipython",
    "version": 3
   },
   "file_extension": ".py",
   "mimetype": "text/x-python",
   "name": "python",
   "nbconvert_exporter": "python",
   "pygments_lexer": "ipython3",
   "version": "3.9.13"
  }
 },
 "nbformat": 4,
 "nbformat_minor": 5
}
